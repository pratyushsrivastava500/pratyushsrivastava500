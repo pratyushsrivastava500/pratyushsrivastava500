{
 "cells": [
  {
   "cell_type": "markdown",
   "id": "a43e5497",
   "metadata": {},
   "source": [
    "# Write a Python program to get the Fibonacci series between 0 to 50"
   ]
  },
  {
   "cell_type": "code",
   "execution_count": null,
   "id": "5dd82e99",
   "metadata": {},
   "outputs": [],
   "source": [
    "def fine()"
   ]
  }
 ],
 "metadata": {
  "kernelspec": {
   "display_name": "Python 3 (ipykernel)",
   "language": "python",
   "name": "python3"
  },
  "language_info": {
   "codemirror_mode": {
    "name": "ipython",
    "version": 3
   },
   "file_extension": ".py",
   "mimetype": "text/x-python",
   "name": "python",
   "nbconvert_exporter": "python",
   "pygments_lexer": "ipython3",
   "version": "3.9.12"
  }
 },
 "nbformat": 4,
 "nbformat_minor": 5
}
